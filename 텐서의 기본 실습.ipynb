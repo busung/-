{
 "cells": [
  {
   "cell_type": "code",
   "execution_count": null,
   "id": "29336f94",
   "metadata": {},
   "outputs": [],
   "source": [
    "#numpy를 이용한 실습"
   ]
  },
  {
   "cell_type": "code",
   "execution_count": 4,
   "id": "2392b428",
   "metadata": {},
   "outputs": [],
   "source": [
    "import numpy as np"
   ]
  },
  {
   "cell_type": "markdown",
   "id": "b3d05651",
   "metadata": {},
   "source": [
    "#1차원 벡터"
   ]
  },
  {
   "cell_type": "code",
   "execution_count": 9,
   "id": "5ca1b874",
   "metadata": {},
   "outputs": [
    {
     "name": "stdout",
     "output_type": "stream",
     "text": [
      "[0. 1. 2. 3. 5. 6.]\n",
      "[0 1 2 3 4 5]\n"
     ]
    }
   ],
   "source": [
    "t=np.array([0.,1.,2.,3.,5.,6.])\n",
    "print(t)\n",
    "list_=list(range(0,6))\n",
    "a=np.array(list_)\n",
    "print(a)"
   ]
  },
  {
   "cell_type": "code",
   "execution_count": 13,
   "id": "4d74c181",
   "metadata": {},
   "outputs": [
    {
     "name": "stdout",
     "output_type": "stream",
     "text": [
      "1\n",
      "(6,)\n"
     ]
    },
    {
     "data": {
      "text/plain": [
       "array([2., 3., 5.])"
      ]
     },
     "execution_count": 13,
     "metadata": {},
     "output_type": "execute_result"
    }
   ],
   "source": [
    "print(t.ndim)#차원\n",
    "print(t.shape)#크기\n",
    "t[2:5]#slicing"
   ]
  },
  {
   "cell_type": "code",
   "execution_count": 14,
   "id": "c653a19c",
   "metadata": {},
   "outputs": [
    {
     "name": "stdout",
     "output_type": "stream",
     "text": [
      "[[ 1.  2.  3.]\n",
      " [ 4.  5.  6.]\n",
      " [ 7.  8.  9.]\n",
      " [10. 11. 12.]]\n"
     ]
    }
   ],
   "source": [
    "t = np.array([[1., 2., 3.], [4., 5., 6.], [7., 8., 9.], [10., 11., 12.]])\n",
    "print(t)"
   ]
  },
  {
   "cell_type": "code",
   "execution_count": 15,
   "id": "59bef5ee",
   "metadata": {},
   "outputs": [
    {
     "name": "stdout",
     "output_type": "stream",
     "text": [
      "2\n",
      "(4, 3)\n"
     ]
    },
    {
     "data": {
      "text/plain": [
       "array([[ 7.,  8.,  9.],\n",
       "       [10., 11., 12.]])"
      ]
     },
     "execution_count": 15,
     "metadata": {},
     "output_type": "execute_result"
    }
   ],
   "source": [
    "print(t.ndim)#차원\n",
    "print(t.shape)#크기\n",
    "t[2:5]#slicing"
   ]
  },
  {
   "cell_type": "markdown",
   "id": "e6fd712b",
   "metadata": {},
   "source": [
    "#토치를 이용한 실습"
   ]
  },
  {
   "cell_type": "code",
   "execution_count": 16,
   "id": "fc8247ed",
   "metadata": {},
   "outputs": [],
   "source": [
    "import torch"
   ]
  },
  {
   "cell_type": "code",
   "execution_count": 51,
   "id": "58ae535b",
   "metadata": {},
   "outputs": [
    {
     "name": "stdout",
     "output_type": "stream",
     "text": [
      "tensor([0., 1., 2., 3., 4., 5., 6.])\n",
      "tensor([[3.],\n",
      "        [4.]])\n",
      "torch.Size([2, 1])\n"
     ]
    }
   ],
   "source": [
    "t=torch.FloatTensor([0., 1., 2., 3., 4., 5., 6.])\n",
    "print(t)\n",
    "t=torch.FloatTensor([[3],[4]])\n",
    "print(t)\n",
    "print(t.size())"
   ]
  },
  {
   "cell_type": "code",
   "execution_count": 32,
   "id": "3c3799d7",
   "metadata": {},
   "outputs": [
    {
     "name": "stdout",
     "output_type": "stream",
     "text": [
      "1\n",
      "torch.Size([7])\n",
      "torch.Size([7])\n",
      "tensor([2., 3., 4.])\n"
     ]
    }
   ],
   "source": [
    "print(t.dim())\n",
    "print(t.size())\n",
    "print(t.shape)\n",
    "print(t[2:5])"
   ]
  },
  {
   "cell_type": "code",
   "execution_count": 35,
   "id": "81af8772",
   "metadata": {},
   "outputs": [
    {
     "name": "stdout",
     "output_type": "stream",
     "text": [
      "tensor([[ 1.,  2.,  3.],\n",
      "        [ 1.,  2.,  3.],\n",
      "        [ 7.,  8.,  9.],\n",
      "        [10., 11., 12.]])\n"
     ]
    }
   ],
   "source": [
    "t = torch.FloatTensor([[1., 2., 3.],\n",
    "                       [1., 2., 3.],\n",
    "                       [7., 8., 9.],\n",
    "                       [10., 11., 12.]\n",
    "                      ])\n",
    "print(t)"
   ]
  },
  {
   "cell_type": "code",
   "execution_count": 42,
   "id": "f3e2fe91",
   "metadata": {},
   "outputs": [
    {
     "name": "stdout",
     "output_type": "stream",
     "text": [
      "2\n",
      "torch.Size([4, 3])\n",
      "torch.Size([4, 3])\n",
      "tensor([[ 7.,  8.,  9.],\n",
      "        [10., 11., 12.]])\n",
      "tensor([ 2.,  2.,  8., 11.])\n",
      "tensor([1., 2., 3.])\n",
      "tensor([[ 1.,  2.],\n",
      "        [ 1.,  2.],\n",
      "        [ 7.,  8.],\n",
      "        [10., 11.]])\n"
     ]
    }
   ],
   "source": [
    "print(t.dim())\n",
    "print(t.size())\n",
    "print(t.shape)\n",
    "print(t[2:5])\n",
    "print(t[:,1])\n",
    "print(t[1,:])\n",
    "print(t[:,:-1])"
   ]
  },
  {
   "cell_type": "markdown",
   "id": "ed1edfdd",
   "metadata": {},
   "source": [
    "#브로드캐스팅-연산이 안되는 행렬들을 torch자체 적으로 행렬을 변환시켜 연산하는것"
   ]
  },
  {
   "cell_type": "code",
   "execution_count": 53,
   "id": "553f4816",
   "metadata": {},
   "outputs": [
    {
     "name": "stdout",
     "output_type": "stream",
     "text": [
      "tensor([5., 5.])\n",
      "tensor([4., 5.])\n",
      "tensor([[4., 5.],\n",
      "        [5., 6.]])\n"
     ]
    }
   ],
   "source": [
    "m1 = torch.FloatTensor([3,3])\n",
    "m2 = torch.FloatTensor([2,2])\n",
    "print(m1+m2)\n",
    "#원래 연산 가능 1*2의 두 개의 행렬이라\n",
    "\n",
    "m_1 = torch.FloatTensor([1,2])\n",
    "m_2 = torch.FloatTensor([3])\n",
    "print(m_1 + m_2)\n",
    "#원래는 1*2 1*1로 연산이 불가능해야하지만 브로드캐스팅을 통해 연산을 함\n",
    "m_3 = torch.FloatTensor([1,2])\n",
    "m_4 = torch.FloatTensor([[3],[4]])\n",
    "print(m_4+m_3)\n",
    "#각 행렬을 2*2 행렬로 연장(브로드캐스팅)해서 연산이 진행됨\n",
    "#에러가 나지 않으므로 분석자는 주의해서 실행해야함"
   ]
  },
  {
   "cell_type": "markdown",
   "id": "4dd10aad",
   "metadata": {},
   "source": [
    "#자주 사용되는 기능들"
   ]
  },
  {
   "cell_type": "code",
   "execution_count": 69,
   "id": "3977cf05",
   "metadata": {},
   "outputs": [
    {
     "name": "stdout",
     "output_type": "stream",
     "text": [
      "tensor([[ 5.],\n",
      "        [11.]])\n",
      "tensor([[1., 2.],\n",
      "        [6., 8.]])\n",
      "tensor(2.5000)\n",
      "tensor([2., 3.])\n",
      "tensor(10.)\n",
      "tensor([4., 6.])\n",
      "tensor([3., 7.])\n",
      "tensor(4.)\n",
      "torch.return_types.max(\n",
      "values=tensor([3., 4.]),\n",
      "indices=tensor([1, 1]))\n",
      "tensor([3., 4.])\n"
     ]
    }
   ],
   "source": [
    "m1 = torch.FloatTensor([[1,2],[3,4]])\n",
    "m2 = torch.FloatTensor([[1],[2]])\n",
    "print(m1.matmul(m2))\n",
    "#행렬의 곱\n",
    "\n",
    "print(m1.mul(m2))\n",
    "#원소끼리의 곱(브로드캐스팅해서 연산함)\n",
    "\n",
    "print(m1.mean())\n",
    "print(m1.mean(dim=0))#행을 제거하겠다는 의미\n",
    "#평균을 의미 dim=0 행을 의미,dim=1 열을 의미\n",
    "\n",
    "print(m1.sum())\n",
    "print(m1.sum(dim=0))#행을 제거\n",
    "print(m1.sum(dim=1))#열을 제거\n",
    "#행렬의 합\n",
    "\n",
    "print(m1.max())\n",
    "print(m1.max(dim=0))#argmax도 같이 반환\n",
    "#argmax = 최대값의 인덱스(제거된 행렬에서의 인덱스를 말함)\n",
    "print(m1.max(dim=0)[0])#인덱스를 통해 max값만 혹은 argmax값만 받을 수도 있음\n"
   ]
  },
  {
   "cell_type": "code",
   "execution_count": 79,
   "id": "65108794",
   "metadata": {},
   "outputs": [
    {
     "name": "stdout",
     "output_type": "stream",
     "text": [
      "torch.Size([2, 2, 3])\n",
      "tensor([[ 0.,  1.,  2.],\n",
      "        [ 3.,  4.,  5.],\n",
      "        [ 6.,  7.,  8.],\n",
      "        [ 9., 10., 11.]])\n",
      "tensor([[[ 0.,  1.,  2.]],\n",
      "\n",
      "        [[ 3.,  4.,  5.]],\n",
      "\n",
      "        [[ 6.,  7.,  8.]],\n",
      "\n",
      "        [[ 9., 10., 11.]]])\n"
     ]
    }
   ],
   "source": [
    "t = np.array([[[0, 1, 2],\n",
    "               [3, 4, 5]],\n",
    "              [[6, 7, 8],\n",
    "               [9, 10, 11]]])\n",
    "ft = torch.FloatTensor(t)\n",
    "print(ft.shape)\n",
    "ft_changed = ft.view([-1,3])#-1은 torch에게 맡긴다는 뜻 즉 행의 수는 마음대로 하되 열은 3으로 하라는 뜻\n",
    "print(ft_changed)\n",
    "#view는 행렬의 shape를 바꿔줌\n",
    "ft_chan = ft.view([-1,1,3])\n",
    "print(ft_chan)"
   ]
  },
  {
   "cell_type": "code",
   "execution_count": 86,
   "id": "5fa4050b",
   "metadata": {},
   "outputs": [
    {
     "name": "stdout",
     "output_type": "stream",
     "text": [
      "tensor([[0.],\n",
      "        [1.],\n",
      "        [2.]])\n",
      "torch.Size([3, 1])\n",
      "tensor([0., 1., 2.])\n",
      "torch.Size([3])\n"
     ]
    }
   ],
   "source": [
    "ft=torch.FloatTensor([[0],[1],[2]])\n",
    "print(ft)\n",
    "print(ft.shape)\n",
    "ft_sqe = ft.squeeze()\n",
    "print(ft_sqe)\n",
    "print(ft_sqe.shape)\n",
    "#squeeze는 차원이 1인 경우 해당차원을 제거함"
   ]
  },
  {
   "cell_type": "code",
   "execution_count": 90,
   "id": "aed5347c",
   "metadata": {},
   "outputs": [
    {
     "name": "stdout",
     "output_type": "stream",
     "text": [
      "tensor([0., 1., 2.])\n",
      "torch.Size([3])\n",
      "tensor([[0.],\n",
      "        [1.],\n",
      "        [2.]])\n",
      "torch.Size([1, 3])\n"
     ]
    }
   ],
   "source": [
    "ft = torch.Tensor([0, 1, 2])\n",
    "print(ft)\n",
    "print(ft.shape)\n",
    "print(ft.unsqueeze(1))\n",
    "print(ft.unsqueeze(0).shape)\n",
    "#unsqeeze(dim)dim=0이면 행에 크기가 1인 차원을 1이면 열에 크기가 1인 차원을 추가해줌"
   ]
  },
  {
   "cell_type": "code",
   "execution_count": 94,
   "id": "6be57824",
   "metadata": {},
   "outputs": [
    {
     "name": "stdout",
     "output_type": "stream",
     "text": [
      "tensor([0., 1., 2.])\n",
      "tensor([0, 1, 2])\n",
      "tensor([1, 0, 0, 1], dtype=torch.uint8)\n",
      "tensor([1., 0., 0., 1.]) tensor([1, 0, 0, 1])\n"
     ]
    }
   ],
   "source": [
    "print(ft)\n",
    "print(ft.long())\n",
    "#casting을 통한 원소의 type을 변형시킬 수 있음\n",
    "bt = torch.ByteTensor([True, False, False, True])#바이트 단위의 텐서\n",
    "print(bt)\n",
    "print(bt.float(),bt.long())"
   ]
  },
  {
   "cell_type": "code",
   "execution_count": 99,
   "id": "8a329914",
   "metadata": {},
   "outputs": [
    {
     "name": "stdout",
     "output_type": "stream",
     "text": [
      "tensor([[1., 2.],\n",
      "        [3., 4.],\n",
      "        [5., 6.],\n",
      "        [7., 8.]]) tensor([[1., 2., 5., 6.],\n",
      "        [3., 4., 7., 8.]])\n"
     ]
    }
   ],
   "source": [
    "x = torch.FloatTensor([[1, 2], [3, 4]])\n",
    "y = torch.FloatTensor([[5, 6], [7, 8]])\n",
    "xy_0 = torch.cat([x,y],dim=0)#0=행으로 합치기 1=열로 합치기\n",
    "xy_1 = torch.cat([x,y],dim=1)\n",
    "print(xy_0,xy_1)\n",
    "#cat을 통한 텐서 합치기"
   ]
  },
  {
   "cell_type": "code",
   "execution_count": 103,
   "id": "d024fcdf",
   "metadata": {},
   "outputs": [
    {
     "name": "stdout",
     "output_type": "stream",
     "text": [
      "tensor([[1., 4.],\n",
      "        [2., 5.],\n",
      "        [3., 6.]])\n",
      "tensor([[1., 2., 3.],\n",
      "        [4., 5., 6.]])\n"
     ]
    }
   ],
   "source": [
    "x = torch.FloatTensor([1, 4])\n",
    "y = torch.FloatTensor([2, 5])\n",
    "z = torch.FloatTensor([3, 6])\n",
    "print(torch.stack([x, y, z]))\n",
    "print(torch.stack(([x, y, z]),dim=1))\n",
    "#stack을 이용한 텐서 합치기"
   ]
  },
  {
   "cell_type": "code",
   "execution_count": 107,
   "id": "794159b9",
   "metadata": {},
   "outputs": [
    {
     "name": "stdout",
     "output_type": "stream",
     "text": [
      "tensor([[0., 1., 2.],\n",
      "        [2., 1., 0.]])\n",
      "tensor([[1., 1., 1.],\n",
      "        [1., 1., 1.]])\n",
      "tensor([[0., 0., 0.],\n",
      "        [0., 0., 0.]])\n",
      "tensor([[2., 4.],\n",
      "        [6., 8.]])\n"
     ]
    }
   ],
   "source": [
    "x=torch.FloatTensor([[0, 1, 2], [2, 1, 0]])\n",
    "print(x)\n",
    "print(torch.ones_like(x))#x 행렬을 모두 1로 채우기\n",
    "print(torch.zeros_like(x))#x 행렬을 모두 0으로 채우기"
   ]
  },
  {
   "cell_type": "code",
   "execution_count": 110,
   "id": "10d75f7b",
   "metadata": {},
   "outputs": [
    {
     "name": "stdout",
     "output_type": "stream",
     "text": [
      "tensor([[2., 4.],\n",
      "        [6., 8.]])\n",
      "tensor([[1., 2.],\n",
      "        [3., 4.]])\n",
      "tensor([[2., 4.],\n",
      "        [6., 8.]])\n",
      "tensor([[2., 4.],\n",
      "        [6., 8.]])\n"
     ]
    }
   ],
   "source": [
    "x = torch.FloatTensor([[1, 2], [3, 4]])\n",
    "print(x.mul(2))\n",
    "print(x)\n",
    "print(x.mul_(2))\n",
    "print(x)\n",
    "#_를 붙이면 x값에 그 연산된 결과값"
   ]
  }
 ],
 "metadata": {
  "kernelspec": {
   "display_name": "Python 3",
   "language": "python",
   "name": "python3"
  },
  "language_info": {
   "codemirror_mode": {
    "name": "ipython",
    "version": 3
   },
   "file_extension": ".py",
   "mimetype": "text/x-python",
   "name": "python",
   "nbconvert_exporter": "python",
   "pygments_lexer": "ipython3",
   "version": "3.6.13"
  }
 },
 "nbformat": 4,
 "nbformat_minor": 5
}
